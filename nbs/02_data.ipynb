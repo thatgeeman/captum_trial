{
 "cells": [
  {
   "cell_type": "code",
   "execution_count": 136,
   "metadata": {},
   "outputs": [],
   "source": [
    "#| default_exp data"
   ]
  },
  {
   "cell_type": "code",
   "execution_count": 137,
   "metadata": {},
   "outputs": [],
   "source": [
    "#| hide\n",
    "from nbdev.showdoc import *"
   ]
  },
  {
   "cell_type": "code",
   "execution_count": 138,
   "metadata": {},
   "outputs": [],
   "source": [
    "#| export \n",
    "\n",
    "import torch\n",
    "from torch import nn\n",
    "import torch.nn.functional as F\n",
    "import torchvision\n",
    "from torch.utils.data import Dataset, DataLoader\n",
    "\n",
    "from typing import Any, Union, Tuple"
   ]
  },
  {
   "cell_type": "code",
   "execution_count": 139,
   "metadata": {},
   "outputs": [],
   "source": [
    "#| export\n",
    "_size_2_t = Union[int, Tuple[int, int]]"
   ]
  },
  {
   "cell_type": "code",
   "execution_count": 140,
   "metadata": {},
   "outputs": [],
   "source": [
    "# | export\n",
    "\n",
    "def get_cifar():\n",
    "    train_ds = torchvision.datasets.CIFAR10(root='../.sample/train', train=True, download=True)\n",
    "    test_ds = torchvision.datasets.CIFAR10(root='../.sample/test', train=False, download=True)\n",
    "    return train_ds, test_ds"
   ]
  },
  {
   "cell_type": "code",
   "execution_count": 141,
   "metadata": {},
   "outputs": [
    {
     "name": "stdout",
     "output_type": "stream",
     "text": [
      "Files already downloaded and verified\n",
      "Files already downloaded and verified\n"
     ]
    }
   ],
   "source": [
    "train_ds, test_ds = get_cifar()"
   ]
  },
  {
   "cell_type": "code",
   "execution_count": 142,
   "metadata": {},
   "outputs": [],
   "source": [
    "#| export\n",
    "\n",
    "class CIFARDataset(Dataset):\n",
    "    def __init__(self, ds) -> None:\n",
    "        super().__init__()\n",
    "        self.ds = ds \n",
    "    def __getitem__(self, index) -> Any:\n",
    "        img = torch.Tensor(self.ds.data[index]).permute(2, 0, 1)\n",
    "        target = torch.Tensor([self.ds.targets[index]])\n",
    "        return img.to(torch.float32), target.to(torch.float32)\n",
    "    def __len__(self):\n",
    "        return len(self.ds)\n"
   ]
  },
  {
   "cell_type": "code",
   "execution_count": 143,
   "metadata": {},
   "outputs": [
    {
     "data": {
      "text/plain": [
       "(torch.float32, tensor([6.]))"
      ]
     },
     "execution_count": 143,
     "metadata": {},
     "output_type": "execute_result"
    }
   ],
   "source": [
    "CIFARDataset(train_ds)[0][0].dtype, CIFARDataset(train_ds)[0][1]"
   ]
  },
  {
   "cell_type": "code",
   "execution_count": 144,
   "metadata": {},
   "outputs": [
    {
     "data": {
      "text/plain": [
       "(50000, 10000)"
      ]
     },
     "execution_count": 144,
     "metadata": {},
     "output_type": "execute_result"
    }
   ],
   "source": [
    "len(CIFARDataset(train_ds)), len(CIFARDataset(test_ds))"
   ]
  },
  {
   "cell_type": "code",
   "execution_count": 145,
   "metadata": {},
   "outputs": [],
   "source": [
    "#| export \n",
    "\n",
    "def get_dls(batch_size=100):\n",
    "    train_data, test_data = get_cifar()\n",
    "    train_ds = CIFARDataset(train_data)\n",
    "    test_ds = CIFARDataset(test_data)\n",
    "    train_dls = DataLoader(train_ds, batch_size=batch_size, drop_last=True, num_workers=4, shuffle=True)\n",
    "    test_dls = DataLoader(test_ds, batch_size=batch_size, drop_last=False, num_workers=4, shuffle=False)\n",
    "    return train_dls, test_dls\n"
   ]
  },
  {
   "cell_type": "code",
   "execution_count": 146,
   "metadata": {},
   "outputs": [
    {
     "name": "stdout",
     "output_type": "stream",
     "text": [
      "Files already downloaded and verified\n",
      "Files already downloaded and verified\n"
     ]
    }
   ],
   "source": [
    "train_dls, test_dls = get_dls()"
   ]
  },
  {
   "cell_type": "code",
   "execution_count": 147,
   "metadata": {},
   "outputs": [
    {
     "name": "stdout",
     "output_type": "stream",
     "text": [
      "torch.Size([100, 3, 32, 32]) torch.Size([100, 1]) torch.float32 torch.float32\n"
     ]
    }
   ],
   "source": [
    "for img, label in train_dls:\n",
    "    print(img.shape, label.shape, img.dtype, label.dtype)\n",
    "    break"
   ]
  },
  {
   "cell_type": "code",
   "execution_count": null,
   "metadata": {},
   "outputs": [],
   "source": []
  },
  {
   "cell_type": "code",
   "execution_count": 148,
   "metadata": {},
   "outputs": [],
   "source": [
    "#| hide\n",
    "import nbdev; nbdev.nbdev_export()"
   ]
  },
  {
   "cell_type": "code",
   "execution_count": null,
   "metadata": {},
   "outputs": [],
   "source": []
  },
  {
   "cell_type": "code",
   "execution_count": null,
   "metadata": {},
   "outputs": [],
   "source": []
  }
 ],
 "metadata": {
  "kernelspec": {
   "display_name": ".venv",
   "language": "python",
   "name": "python3"
  },
  "language_info": {
   "codemirror_mode": {
    "name": "ipython",
    "version": 3
   },
   "file_extension": ".py",
   "mimetype": "text/x-python",
   "name": "python",
   "nbconvert_exporter": "python",
   "pygments_lexer": "ipython3",
   "version": "3.11.3 (main, Jun  5 2023, 09:32:32) [GCC 13.1.1 20230429]"
  },
  "orig_nbformat": 4,
  "vscode": {
   "interpreter": {
    "hash": "01412d4dd6218f4db410f2ea7c17e2cd0144520fb4cd0f1797e0817e1f1d8cfe"
   }
  }
 },
 "nbformat": 4,
 "nbformat_minor": 2
}
