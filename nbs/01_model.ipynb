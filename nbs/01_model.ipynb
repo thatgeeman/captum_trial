{
 "cells": [
  {
   "cell_type": "code",
   "execution_count": 19,
   "metadata": {},
   "outputs": [],
   "source": [
    "#| default_exp model"
   ]
  },
  {
   "cell_type": "code",
   "execution_count": 20,
   "metadata": {},
   "outputs": [],
   "source": [
    "#| hide\n",
    "from nbdev.showdoc import *"
   ]
  },
  {
   "cell_type": "code",
   "execution_count": 21,
   "metadata": {},
   "outputs": [],
   "source": [
    "#| export \n",
    "\n",
    "import torch\n",
    "from torch import nn\n",
    "import torch.nn.functional as F\n",
    "\n",
    "from typing import Any, Union, Tuple\n",
    "\n",
    "import pytorch_lightning as pl"
   ]
  },
  {
   "cell_type": "code",
   "execution_count": 22,
   "metadata": {},
   "outputs": [],
   "source": [
    "#| export\n",
    "_size_2_t = Union[int, Tuple[int, int]]"
   ]
  },
  {
   "cell_type": "code",
   "execution_count": 23,
   "metadata": {},
   "outputs": [
    {
     "data": {
      "text/plain": [
       "torch.Size([2, 3, 32, 32])"
      ]
     },
     "execution_count": 23,
     "metadata": {},
     "output_type": "execute_result"
    }
   ],
   "source": [
    "sample_data = torch.rand((2, 3, 32, 32))\n",
    "sample_data.shape"
   ]
  },
  {
   "cell_type": "code",
   "execution_count": 24,
   "metadata": {},
   "outputs": [],
   "source": [
    "# | export\n",
    "\n",
    "\n",
    "class ConvBnRelu(nn.Module):\n",
    "    def __init__(\n",
    "        self,\n",
    "        in_channels: int,\n",
    "        out_channels: int,\n",
    "        kernel_size: _size_2_t,\n",
    "        stride: _size_2_t = 1,\n",
    "        padding: _size_2_t | str = 0,\n",
    "        dilation: _size_2_t = 1,\n",
    "        groups: int = 1,\n",
    "        bias: bool = True,\n",
    "        padding_mode: str = \"zeros\",\n",
    "        device: Any | None = None,\n",
    "        dtype: Any | None = None,\n",
    "        eps: float = 0.00001,\n",
    "        momentum: float = 0.1,\n",
    "        affine: bool = True,\n",
    "        track_running_stats: bool = True,\n",
    "    ):\n",
    "        super(ConvBnRelu, self).__init__()\n",
    "        self.conv = nn.Conv2d(\n",
    "            in_channels=in_channels,\n",
    "            out_channels=out_channels,\n",
    "            kernel_size=kernel_size,\n",
    "            stride=stride,\n",
    "            padding=padding,\n",
    "            dilation=dilation,\n",
    "            groups=groups,\n",
    "            bias=bias,\n",
    "            padding_mode=padding_mode,\n",
    "            device=device,\n",
    "            dtype=dtype,\n",
    "        )\n",
    "        self.bn = nn.BatchNorm2d(\n",
    "            num_features=out_channels,\n",
    "            eps=eps,\n",
    "            momentum=momentum,\n",
    "            affine=affine,\n",
    "            track_running_stats=track_running_stats,\n",
    "            device=device,\n",
    "            dtype=dtype,\n",
    "        )\n",
    "\n",
    "    def forward(self, x):\n",
    "        x = self.conv(x)\n",
    "        x = self.bn(x)\n",
    "        return F.relu(x)"
   ]
  },
  {
   "cell_type": "code",
   "execution_count": 25,
   "metadata": {},
   "outputs": [
    {
     "data": {
      "text/plain": [
       "torch.Size([2, 16, 30, 30])"
      ]
     },
     "execution_count": 25,
     "metadata": {},
     "output_type": "execute_result"
    }
   ],
   "source": [
    "ConvBnRelu(3, 16, 3)(sample_data).shape  # (Fin-K+2P)/S + 1 -> 32-3/1 + 1 = 30"
   ]
  },
  {
   "cell_type": "code",
   "execution_count": 26,
   "metadata": {},
   "outputs": [],
   "source": [
    "# | export\n",
    "\n",
    "class ConvNet(nn.Module):\n",
    "    def __init__(self, n_cls:int):\n",
    "        super(ConvNet, self).__init__()\n",
    "        self.conv1 = ConvBnRelu(3, 16, 3) \n",
    "        self.drop1 = nn.Dropout2d(p=0.2)\n",
    "        self.conv2 = ConvBnRelu(16, 32, 3)\n",
    "        self.drop2 = nn.Dropout2d(p=0.2)\n",
    "        self.flat = nn.Flatten()\n",
    "        self.linear = nn.LazyLinear(out_features=n_cls)\n",
    "    def forward(self, x):\n",
    "        x = self.drop1(self.conv1(x))\n",
    "        x = self.drop2(self.conv2(x)) \n",
    "        x = self.flat(x)\n",
    "        return self.linear(x)"
   ]
  },
  {
   "cell_type": "code",
   "execution_count": 27,
   "metadata": {},
   "outputs": [
    {
     "data": {
      "text/plain": [
       "tensor([[-0.5159,  0.0844, -0.0255,  0.2810, -0.4592,  0.0967, -0.3894,  0.9572,\n",
       "          0.0648,  0.7900],\n",
       "        [ 0.3965,  0.6567,  0.2903, -0.3211, -0.2582, -0.4820, -0.5397,  0.0930,\n",
       "         -0.1613,  0.0652]], grad_fn=<AddmmBackward0>)"
      ]
     },
     "execution_count": 27,
     "metadata": {},
     "output_type": "execute_result"
    }
   ],
   "source": [
    "ConvNet(n_cls=10)(sample_data)"
   ]
  },
  {
   "cell_type": "code",
   "execution_count": 28,
   "metadata": {},
   "outputs": [],
   "source": [
    "#| hide\n",
    "import nbdev; nbdev.nbdev_export()"
   ]
  },
  {
   "cell_type": "code",
   "execution_count": null,
   "metadata": {},
   "outputs": [],
   "source": []
  },
  {
   "cell_type": "code",
   "execution_count": null,
   "metadata": {},
   "outputs": [],
   "source": []
  }
 ],
 "metadata": {
  "kernelspec": {
   "display_name": ".venv",
   "language": "python",
   "name": "python3"
  },
  "language_info": {
   "codemirror_mode": {
    "name": "ipython",
    "version": 3
   },
   "file_extension": ".py",
   "mimetype": "text/x-python",
   "name": "python",
   "nbconvert_exporter": "python",
   "pygments_lexer": "ipython3",
   "version": "3.11.3"
  },
  "orig_nbformat": 4,
  "vscode": {
   "interpreter": {
    "hash": "01412d4dd6218f4db410f2ea7c17e2cd0144520fb4cd0f1797e0817e1f1d8cfe"
   }
  }
 },
 "nbformat": 4,
 "nbformat_minor": 2
}
